{
 "cells": [
  {
   "cell_type": "markdown",
   "metadata": {},
   "source": [
    "# COGS 108 - Project Proposal"
   ]
  },
  {
   "cell_type": "markdown",
   "metadata": {},
   "source": [
    "## Important\n",
    "\n",
    "- Make sure all group members (3-5 people) are listed in the group members section.\n",
    "- ONE, and only one, member of your group should upload this notebook to TritonED. \n",
    "- Each member of the group will receive the same grade on this assignment. \n",
    "- Keep the file name the same: submit the file 'ProjectProposal.ipynb'"
   ]
  },
  {
   "cell_type": "markdown",
   "metadata": {},
   "source": [
    "## Overview"
   ]
  },
  {
   "cell_type": "markdown",
   "metadata": {},
   "source": [
    "Read the project description and detailed instructions for this assignment in the 'ProjectOutline' document."
   ]
  },
  {
   "cell_type": "markdown",
   "metadata": {},
   "source": [
    "## Group Members: Fill in the Student IDs of each group member here\n",
    "\n",
    "Replace the lines below to list each persons full student ID. Add lines as needed for your group size, and make sure each ID is listed on a separate line. \n",
    "\n",
    "- A13732236\n",
    "- A11291138\n",
    "- A14094166\n",
    "- A15340988\n",
    "- A12900934\n",
    "- A13457936\n"
   ]
  },
  {
   "cell_type": "markdown",
   "metadata": {},
   "source": [
    "### Research Question\n",
    "\n",
    "What is your research question? (1-2 sentences)"
   ]
  },
  {
   "cell_type": "markdown",
   "metadata": {},
   "source": [
    "Where are the safest/most dangerous beaches in California based on shark fatalities and tide safety?  "
   ]
  },
  {
   "cell_type": "markdown",
   "metadata": {},
   "source": [
    "### Hypothesis\n",
    "\n",
    "What is your main hypothesis and predictions? (2-3 sentences)"
   ]
  },
  {
   "cell_type": "markdown",
   "metadata": {},
   "source": [
    "If a beach has lower amounts of shark attacks and/or fatalities then it is considered to be safer. Additionally, if those shark attacks have not occured in recent years, it is possible that the beach is considered safe."
   ]
  },
  {
   "cell_type": "markdown",
   "metadata": {},
   "source": [
    "### Dataset(s)\n",
    "\n",
    "What data will you use to answer your question? Describe the dataset(s) in terms of number of observations, what kind of features it contains, etc. You must use at least one dataset containing at least approximately 1000 observations (if your data are smaller but you feel they are sufficient, email Prof. Voytek). You are welcome (and in fact recommended) to find multiple datasets! If you do so, describe each one, and briefly explain how you will combine them together. "
   ]
  },
  {
   "cell_type": "markdown",
   "metadata": {},
   "source": [
    "We will use data from shark attacks and tide ranges along beaches in California to determine the safest and most dangerous places when visiting the beach.\n",
    "\n",
    "This dataset gives us information on global shark attacks. It lists the location, area, and country with corresponding dates of when fatality occurred. This data set details the date, type, country, area, location, and activity of the nature of each of these attacks.\n",
    "- Dataset Name: Shark Attacks \n",
    "- Link to the dataset: https://www.kaggle.com/teajay/global-shark-attacks/data \n",
    "- Number of observations: 25,000\n",
    "\n",
    "This website has current and future predictions on how high the tide is going to be. It gives us the date, day of week, time of update, predicted tide length, and if the tide is high or low.\n",
    "- Dataset Name: Tide Predictions\n",
    "- Link to the website: https://tidesandcurrents.noaa.gov/historic_tide_tables.html \n",
    "- To extract datasets: https://gist.github.com/tbrianjones/6515916 \n",
    "- Number of observations: 1,500\n",
    "\n",
    "We plan on using the data from the Shark Attacks dataset to mark the beaches in California with the most attacks and the data from Tide Predictions, which we will scrape using Beautifulsoup, to mark beaches in California accordingly depending on their tide heights. We plan on combining both to make a comprehensive map of the beaches in California.\n",
    "\n"
   ]
  },
  {
   "cell_type": "markdown",
   "metadata": {},
   "source": [
    "### Background and Prior Work\n",
    "\n",
    "Why is this question of interest, what background information led you to your hypothesis, and why is this important?\n",
    "\n",
    "Find some relevant prior work, and reference those sources. Even if you think you have a totally novel question, find the most similar prior work that you can and discuss how it relates to your project. \n",
    "\n",
    "References can be research publications, but they need not be. Blogs, github repositories, company websites, etc., are all viable references if they are relevant to your project.\n",
    "\n",
    "Living so close to the beach has made us aware of how important safety precautions are for both being near the ocean and being in the ocean. One particularly alarming and increasing threat to safety is shark attacks, which have a large psychological effect on the public. Therefore, highlighting the most dangerous locations will give the average beach-goer peace of mind when planning a visit. Because shark attacks are not mentioned frequently, the public is mostly unaware of their presence at most beaches. As a result, we decided to investigate and shed light on the issue. \n",
    "\n",
    "Beach safety has been a tough issue to deal with due to the nature of beach accidents being caused by the beach and the waters itself which could make passing policies to increase safety difficult, as claimed by Neff’s article addressing Australian beach safety, while maintaining the same levels of beach access. Knowing changes in water patterns are important for tsunami tracking, avoiding riptides and any water related activities. \n"
   ]
  },
  {
   "cell_type": "markdown",
   "metadata": {},
   "source": [
    "*Fill in your background and prior work here* \n",
    "\n",
    "References (include links):\n",
    "- 1) http://www.jstor.org/stable/25735599 \n",
    "- 2) http://www.tandfonline.com/doi/abs/10.1080/08920753.2011.639867\n",
    "- 3) http://www.usla.org/?page=SAFETYTIPS \n",
    "- 4) http://sharkattackfile.net "
   ]
  },
  {
   "cell_type": "markdown",
   "metadata": {},
   "source": [
    "### Proposed Methods\n",
    "\n",
    "What methods will you use to analyze your data?\n",
    "\n",
    "- How 'clean' is the data? To the extent that it requires cleaning, how will you do so?\n",
    "- How will you analyze the data? Be as specific as you can. Briefly mention any pre-processing steps that are required for your methods (for example, checking data distributions and performing any transformations that may be required). Include a brief outline of how you will apply your chosen method(s). \n",
    "- What do you plan to report? Briefly mention any key visualizations you plan to create, and/or the kind of results you will be able to report that address your question (this could be, for example, the outcome of some statistical test(s), prediction error on a model, a model fit parameter, etc.).\n",
    "- Include a list of packages you expect to use for you project. If you plan to use packages we have not used in class, add a very brief description about them (a few words is sufficient). "
   ]
  },
  {
   "cell_type": "markdown",
   "metadata": {},
   "source": [
    "*Fill in your proposed methods information here:*\n",
    "\n",
    "*Data Cleaning (2-3 sentences)*\n",
    "\n",
    "We’ll be primarily looking at beaches in California so we’ll have to remove any data that involves information collected from outside C.A. In addition, we’ll remove all personal information regarding the victims’ name, gender, and age in Shark Attacks. In Tide Information, we’ll scrape the site using Beautifulsoup, and put date, day of week, time of update, predicted tide length, and if the tide is high or low into a dataframe with columns labeled ‘date’, ‘day’, ‘time’, ‘length’, ‘high/low’. No information needs to be taken out here since we’re not working with people.\n",
    "\n",
    "*Data Analysis (1-2 paragraphs)*\n",
    "\n",
    "We’ll most likely analyze the data based on location of shark fatalities, and to do that, we’ll start by creating a dataframe with only California fatalities, so we’ll select certain rows based on the state. With this information, we’ll be able to map out which areas have the most fatalities in California, and which, if any, have none. To analyze each beach individually, we’ll sum the number of attacks in every beach in the ‘location’ column and create a new dataframe with each unique beach, its number of fatalities, and its location information. This dataframe will be useful in getting information and in visualizing information. \n",
    "\n",
    "We can then assign values representing safety by looking for correlations between how recent each attack was from one another, how frequent these attacks are, the severity of each attack, and the type of injury. We can then create a data distribution with that information to see how safe and/or dangerous a particular beach is. We will also compare the safety ratings between other beaches in that state with a scatter matrix and eventually, compare all the beaches in CA by zip code in another scatter matrix. \n",
    "\n",
    "Another factor in our analysis will be the the tide heights, which we can use to determine the optimal times that are safest for going into the water. We will categorize the beaches by zip code and look at the latitude and longitude columns to determine dangerous water. The tidal heights will be measured against the datum of the specific tides of the beaches. Whether a tide is considered ‘high’ will make the waters more dangerous in comparison to the times they are ‘low’.\n",
    "\n",
    "\n",
    "*What to report (2-3 sentences)*\n",
    "\n",
    "We’ll report two data distributions, one pertaining to the amount of fatalities per beach in CA and one pertaining to how many fatalities occurred per year. Additionally, we’ll determine how unsafe/safe a beach is based on a rating scale and present that information on a scatter matrix. \n",
    "\n",
    "Packages we plan to use:\n",
    "- Numpy\n",
    "- Pandas Dataframe\n",
    "- Beautiful Soup"
   ]
  },
  {
   "cell_type": "markdown",
   "metadata": {},
   "source": [
    "### Ethics and Privacy\n",
    "\n",
    "Briefly acknowledge and address any potential issues of ethics and privacy for the proposed project. In particular:\n",
    "- Do you have permission to use this data, for this purpose?\n",
    "- Are there privacy concerns regarding your datasets that you need to deal with, and/or terms of use that you need to comply with?\n",
    "- Are there potential biases in your dataset(s), in terms of who it composes, and how it was collected, that may be problematic in terms of it allowing for equitable analysis? (For example, does your data exclude particular populations, or is it likely to reflect particular human biases in a way that could be a problem?) \n",
    "- Are there any other issues related to your topic area, data, and/or analyses that are potentially problematic in terms of data privacy and equitable impact?\n",
    "- How will you handle any issues you identify?\n",
    "\n",
    "In terms of permission, the datasets and websites are public and free. In terms of privacy, all the data is public and, therefore, available for interpretations and manipulation by the public. The primary data that we are using is from a Kaggle dataset. Kaggle allows users to easily download datasets in an easy to read format with Kaggle Kernels. The Kaggle site also says to contribute to “the open data movement”. \n",
    "\n",
    "There may be existing biases in terms of which tide website provides data, being that they may exclude information from the general public in order to make a certain area seem safer, potentially drawing in consumers and revenue that might benefit a certain group of people. However, this is unlikely.  In order to handle any issues we may identify, we intend to pull information from multiple sources in order to cross check the accuracy as well as provide a more specific answer to the safest locations on beaches in California. \t\n"
   ]
  },
  {
   "cell_type": "markdown",
   "metadata": {},
   "source": [
    "### Discussion\n",
    "\n",
    "Discuss your project, looking forward to what your results might mean, how they fit it in with what is already known, and what problems you may encounter. \n",
    "\n",
    "In particular:\n",
    "- If your analyses and hypotheses are correct, what will be the contribution of this project to the topic domain? \n",
    "- Alternatively, what will you do if you methods don't work and/or your hypotheses are wrong? \n",
    "- What are the potential pitfalls and potential confounds of your data and/or methods that may cause problems, and/or influence your interpretations?\n",
    "\n",
    "(2-3 paragraphs)"
   ]
  },
  {
   "cell_type": "markdown",
   "metadata": {},
   "source": [
    "If the analyses and hypotheses are correct, the project will provide more insight on what beaches are safest to visit and swim in. By looking at multiple factors that affect beach safety, the project aims to see how each factor affects overall beach safety, both on land and in water. Knowing this information would allow future visitors to more appropriately plan for any potential accommodations such a school requiring more chaperones to ensure child safety. The project information could also be utilized by visitors wanting to partake in beach activities such as surfing to find the best location for waves while minimizing chances of injury or accidents.\n",
    "\n",
    "Potential problems with the data would involve that certain accidents may only occur in a certain area in the United States. For example, when examining shark attacks, the data includes different shark species. Since different shark species have different behaviors and are not uniform in geographic location, it may lead to a less consistent overall interpretation of safety since not every beach will have the same dangers. \n"
   ]
  },
  {
   "cell_type": "code",
   "execution_count": null,
   "metadata": {
    "collapsed": true
   },
   "outputs": [],
   "source": []
  }
 ],
 "metadata": {
  "kernelspec": {
   "display_name": "Python 3",
   "language": "python",
   "name": "python3"
  },
  "language_info": {
   "codemirror_mode": {
    "name": "ipython",
    "version": 3
   },
   "file_extension": ".py",
   "mimetype": "text/x-python",
   "name": "python",
   "nbconvert_exporter": "python",
   "pygments_lexer": "ipython3",
   "version": "3.6.3"
  }
 },
 "nbformat": 4,
 "nbformat_minor": 2
}
